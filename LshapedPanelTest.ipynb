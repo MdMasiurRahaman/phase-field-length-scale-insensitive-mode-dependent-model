{
 "cells": [
  {
   "cell_type": "code",
   "execution_count": null,
   "id": "b78cd8ab",
   "metadata": {},
   "outputs": [],
   "source": [
    "using GridapGmsh\n",
    "using Gmsh: gmsh\n",
    "using Gridap\n",
    "using Gridap.Geometry\n",
    "using Gridap.TensorValues\n",
    "using LineSearches: BackTracking\n",
    "using LinearAlgebra"
   ]
  },
  {
   "cell_type": "code",
   "execution_count": null,
   "id": "c3cae0f1",
   "metadata": {},
   "outputs": [],
   "source": [
    "const E_mat = 2e4\n",
    "const ν_mat = 0.18\n",
    "\n",
    "const G₁₂_mat = E_mat/(2*(1+ν_mat))\n",
    "\n",
    "const λ_mat = E_mat*ν_mat/((1+ν_mat)*(1-2*ν_mat))\n",
    "const μ_mat = E_mat/(2*(1+ν_mat))\n",
    "const k_mat = λ_mat + μ_mat"
   ]
  },
  {
   "cell_type": "code",
   "execution_count": null,
   "id": "2be40ce8",
   "metadata": {},
   "outputs": [],
   "source": [
    "const β = 1.25\n",
    "const σcI = 2.5\n",
    "const σcII = β * σcI\n",
    "\n",
    "const α = 1.25\n",
    "const GcI = 0.09\n",
    "const GcII = α * GcI"
   ]
  },
  {
   "cell_type": "code",
   "execution_count": null,
   "id": "065f8a80",
   "metadata": {},
   "outputs": [],
   "source": [
    "const η = 1e-15"
   ]
  },
  {
   "cell_type": "code",
   "execution_count": null,
   "id": "633975e0",
   "metadata": {},
   "outputs": [],
   "source": [
    "const ls = 10"
   ]
  },
  {
   "cell_type": "code",
   "execution_count": null,
   "id": "a7a3aec1",
   "metadata": {},
   "outputs": [],
   "source": [
    "mI(GcIc) = 4*GcIc*k_mat/(pi*ls*σcI^2)\n",
    "mII(GcIIc) = 4*GcIIc*μ_mat/(pi*ls*σcII^2)\n",
    "\n",
    "const ψ_Crit_I = σcI^2/(2*k_mat)\n",
    "const ψ_Crit_II = σcII^2/(2*μ_mat)"
   ]
  },
  {
   "cell_type": "code",
   "execution_count": null,
   "id": "b13babbf",
   "metadata": {},
   "outputs": [],
   "source": [
    "const  L = 500\n",
    "const  H = 500\n",
    "const  LOf = 220\n",
    "const  hfc = ls/4 #Mesh  size  parameter\n",
    "const  hfl = ls #Mesh  size  parameter\n",
    "const  hf = ls/4 #Mesh  size  parameter\n",
    "const  h = 10*hf #Mesh  size  parameter\n",
    "const  thick = 100\n",
    "const FMR = 1*ls\n",
    "gmsh.initialize()\n",
    "gmsh.option.setNumber(\"General.Terminal\", 1)\n",
    "gmsh.model.geo.addPoint(0.0, 0.0, 0.0, h ,1)\n",
    "gmsh.model.geo.addPoint(L/2, 0.0, 0.0, h, 2)\n",
    "gmsh.model.geo.addPoint(L/2, H/2, 0.0, hfc, 3)\n",
    "gmsh.model.geo.addPoint(L/2+LOf-1.25*10, H/2, 0.0, hfl, 4)\n",
    "gmsh.model.geo.addPoint(L/2+LOf+1.25*10, H/2, 0.0, hfl, 5)\n",
    "gmsh.model.geo.addPoint(L, H/2, 0.0, h, 6)\n",
    "gmsh.model.geo.addPoint(L, H, 0.0, h, 7)\n",
    "gmsh.model.geo.addPoint(0.0, H, 0.0, h, 8)\n",
    "gmsh.model.geo.addPoint(0.0, H/2, 0.0, hf, 9)\n",
    "\n",
    "#gmsh.model.geo.addPoint(0.0, H/2, 0.0, hf, 9)\n",
    "\n",
    "gmsh.model.geo.addLine(1, 2, 1)\n",
    "gmsh.model.geo.addLine(2, 3, 2)\n",
    "gmsh.model.geo.addLine(3, 4, 3)\n",
    "gmsh.model.geo.addLine(4, 5, 4)\n",
    "gmsh.model.geo.addLine(5, 6, 5)\n",
    "gmsh.model.geo.addLine(6, 7, 6)\n",
    "gmsh.model.geo.addLine(7, 8, 7)\n",
    "gmsh.model.geo.addLine(8, 9, 8)\n",
    "gmsh.model.geo.addLine(9, 1, 9)\n",
    "\n",
    "\n",
    "gmsh.model.geo.addLine(3, 9, 100)\n",
    "\n",
    "gmsh.model.geo.addCurveLoop([1,2,3,4,5,6,7,8,9],1)\n",
    "gmsh.model.geo.addPlaneSurface([1], 1)\n",
    "\n",
    "gmsh.model.addPhysicalGroup(2, [1],1)\n",
    "gmsh.model.addPhysicalGroup(1, [1],1)\n",
    "gmsh.model.addPhysicalGroup(1, [4],2)\n",
    "\n",
    "gmsh.model.setPhysicalName(2, 1, \"Domain\")\n",
    "gmsh.model.setPhysicalName(1, 1, \"Support\")\n",
    "gmsh.model.setPhysicalName(1, 2, \"LoadLine\")\n",
    "\n",
    "gmsh.model.mesh.field.add(\"Box\", 11)\n",
    "gmsh.model.mesh.field.setNumber(11, \"VIn\", hf)\n",
    "gmsh.model.mesh.field.setNumber(11, \"VOut\", h)\n",
    "gmsh.model.mesh.field.setNumber(11, \"XMin\", 0)\n",
    "gmsh.model.mesh.field.setNumber(11, \"XMax\", L/2)\n",
    "gmsh.model.mesh.field.setNumber(11, \"YMin\", 0.5*H-FMR)\n",
    "gmsh.model.mesh.field.setNumber(11, \"YMax\", 0.6*H)\n",
    "gmsh.model.mesh.field.setAsBackgroundMesh(11)\n",
    "\n",
    "#=gmsh.model.mesh.field.add(\"Distance\", 1)\n",
    "gmsh.model.mesh.field.setNumbers(1, \"EdgesList\", [100])\n",
    "\n",
    "gmsh.model.mesh.field.add(\"Threshold\", 2)\n",
    "gmsh.model.mesh.field.setNumber(2, \"IField\", 1)\n",
    "gmsh.model.mesh.field.setNumber(2, \"LcMin\", hf)\n",
    "gmsh.model.mesh.field.setNumber(2, \"LcMax\", h)\n",
    "gmsh.model.mesh.field.setNumber(2, \"DistMin\", 25*ls)\n",
    "gmsh.model.mesh.field.setNumber(2, \"DistMax\", 35*ls)\n",
    "gmsh.model.mesh.field.setAsBackgroundMesh(2)=#\n",
    "\n",
    "gmsh.model.geo.synchronize()\n",
    "gmsh.model.mesh.generate(2)\n",
    "gmsh.write(\"LShapedPanel.msh\")\n",
    "gmsh.finalize()"
   ]
  },
  {
   "cell_type": "code",
   "execution_count": null,
   "id": "4a562fed",
   "metadata": {},
   "outputs": [],
   "source": [
    "model = GmshDiscreteModel(\"LShapedPanel.msh\")\n",
    "writevtk(model,\"LShapedPanel\")  "
   ]
  },
  {
   "cell_type": "code",
   "execution_count": null,
   "id": "a423a4ac",
   "metadata": {},
   "outputs": [],
   "source": [
    "I2 = SymTensorValue{2,Float64}(1.0 ,0.0 ,1.0)\n",
    "I4 = I2⊗I2\n",
    "I4_sym = one(SymFourthOrderTensorValue{2,Float64})\n",
    "I4_vol = (1.0/2)*I4\n",
    "I4_dev = I4_sym  - I4_vol  "
   ]
  },
  {
   "cell_type": "code",
   "execution_count": null,
   "id": "67e9c29a",
   "metadata": {},
   "outputs": [],
   "source": [
    "p = -0.5"
   ]
  },
  {
   "cell_type": "code",
   "execution_count": null,
   "id": "2959449b",
   "metadata": {},
   "outputs": [],
   "source": [
    "function degDer1(ϕ,GcI)\n",
    "    mIc = mI(GcI)\n",
    "    g = ((ϕ-1)*(ϕ*(2*p+1)+1)*mIc)/((ϕ*ϕ*(mIc*p+1)+(ϕ*(mIc-2)+1))^2) \n",
    "    return g\n",
    "end"
   ]
  },
  {
   "cell_type": "code",
   "execution_count": null,
   "id": "edd55ebb",
   "metadata": {},
   "outputs": [],
   "source": [
    "function degDer2(ϕ,GcII)\n",
    "    mIIc = mII(GcII)\n",
    "    g = ((ϕ-1)*(ϕ*(2*p+1)+1)*mIIc)/((ϕ*ϕ*(mIIc*p+1)+(ϕ*(mIIc-2)+1))^2) \n",
    "    return g\n",
    "end"
   ]
  },
  {
   "cell_type": "code",
   "execution_count": null,
   "id": "86572588",
   "metadata": {},
   "outputs": [],
   "source": [
    "function σfun(ε,ε_in,s_in,GcI,GcII)\n",
    "    mIc = mI(GcI)\n",
    "    mIIc = mII(GcII)\n",
    "    εdev = I4_dev ⊙ ε\n",
    "    σI = k_mat*tr(ε)*one(ε)\n",
    "    σII = 2*μ_mat*εdev\n",
    "    σ = ((1-s_in)^2 / ((1-s_in)^2 + ((mIc*s_in*(1 + p*s_in)))))*(σI) + ((1-s_in)^2 / ((1-s_in)^2 + ((mIIc*s_in*(1 + p*s_in)))))*(σII)\n",
    "    return  σ\n",
    "end  "
   ]
  },
  {
   "cell_type": "code",
   "execution_count": null,
   "id": "f4f91dac",
   "metadata": {},
   "outputs": [],
   "source": [
    "function Eigen(ε)\n",
    "    εArray = get_array(ε)\n",
    "    Λ, P = eigen(εArray)\n",
    "    ε1 = Λ[1]\n",
    "    ε2 = Λ[2]\n",
    "    if ε1 >= 0 &&  ε2 >= 0\n",
    "        Λpos = [ε1 0; 0 ε2]\n",
    "        Λneg = [0 0; 0 0]\n",
    "    elseif ε1 >= 0 &&  ε2 < 0\n",
    "        Λpos = [ε1 0; 0 0]\n",
    "        Λneg = [0 0; 0 ε2]\n",
    "    elseif ε1 < 0 &&  ε2 >= 0\n",
    "        Λpos = [0 0; 0 ε2]\n",
    "        Λneg = [ε1 0; 0 0]\n",
    "    elseif ε1 < 0 &&  ε2 < 0\n",
    "        Λpos = [0 0; 0 0]\n",
    "        Λneg = [ε1 0; 0 ε2]\n",
    "    end\n",
    "    εPos = TensorValue(P*Λpos*P')\n",
    "    εNeg = TensorValue(P*Λneg*P')\n",
    "    return εPos, εNeg\n",
    "end"
   ]
  },
  {
   "cell_type": "code",
   "execution_count": null,
   "id": "3483f843",
   "metadata": {},
   "outputs": [],
   "source": [
    "function ψPosTen(ε_in)\n",
    "    εdev = I4_dev ⊙ ε_in\n",
    "    εPos, εNeg = Eigen(εdev) \n",
    "    if tr(ε_in) > 0.0\n",
    "        ψPlus = 0.5*k_mat*(tr(ε_in))^2\n",
    "    else\n",
    "        ψPlus = 0.0\n",
    "    end\n",
    "    return ψPlus\n",
    "end"
   ]
  },
  {
   "cell_type": "code",
   "execution_count": null,
   "id": "d37f9955",
   "metadata": {},
   "outputs": [],
   "source": [
    "function ψPosShear(ε_in)\n",
    "    εdev = I4_dev ⊙ ε_in\n",
    "    εPos, εNeg = Eigen(εdev) \n",
    "    ψPlus = μ_mat * (εPos ⊙ εPos)\n",
    "    return ψPlus\n",
    "end"
   ]
  },
  {
   "cell_type": "code",
   "execution_count": null,
   "id": "e8cc7ece",
   "metadata": {},
   "outputs": [],
   "source": [
    "function new_EnergyState(ψPlusPrev_in,ψhPos_in)\n",
    "  ψPlus_in = ψhPos_in\n",
    "  if ψPlus_in >= ψPlusPrev_in\n",
    "    ψPlus_out = ψPlus_in\n",
    "  else\n",
    "    ψPlus_out = ψPlusPrev_in\n",
    "  end\n",
    "  true,ψPlus_out\n",
    "end"
   ]
  },
  {
   "cell_type": "code",
   "execution_count": null,
   "id": "bd625365",
   "metadata": {},
   "outputs": [],
   "source": [
    "function EnergyState(ψPlusPrev_in,ψhPos_in)\n",
    "  ψPlus_out = ψhPos_in\n",
    "  true,ψPlus_out\n",
    "end"
   ]
  },
  {
   "cell_type": "code",
   "execution_count": null,
   "id": "0a6cac50",
   "metadata": {},
   "outputs": [],
   "source": [
    "function  project(q,model ,dΩ,order)\n",
    "    reffe = ReferenceFE(lagrangian ,Float64 ,order)\n",
    "    V = FESpace(model ,reffe ,conformity =:L2)\n",
    "    a(u,v) =∫(u*v)*dΩ\n",
    "    b(v) =∫(v*q)*dΩ\n",
    "    op = AffineFEOperator(a,b,V,V)\n",
    "    qh = Gridap.solve(op)\n",
    "    return  qh\n",
    "end\n",
    "     "
   ]
  },
  {
   "cell_type": "code",
   "execution_count": null,
   "id": "13efff5c",
   "metadata": {},
   "outputs": [],
   "source": [
    "order = 1\n",
    "reffe_PF = ReferenceFE(lagrangian ,Float64,order)\n",
    "V0_PF = TestFESpace(model ,reffe_PF;conformity =:H1)\n",
    "U_PF = TrialFESpace(V0_PF)\n",
    "sh = zero(V0_PF)"
   ]
  },
  {
   "cell_type": "code",
   "execution_count": null,
   "id": "895ca251",
   "metadata": {},
   "outputs": [],
   "source": [
    "reffe_Disp = ReferenceFE(lagrangian,VectorValue{2,Float64},order)\n",
    "        V0_Disp = TestFESpace(model,reffe_Disp;\n",
    "          conformity=:H1,\n",
    "          dirichlet_tags=[\"Support\",\"LoadLine\"],\n",
    "          dirichlet_masks=[(true,true), (false,true)])\n",
    "\n",
    "uh = zero(V0_Disp)"
   ]
  },
  {
   "cell_type": "code",
   "execution_count": null,
   "id": "36de97a8",
   "metadata": {},
   "outputs": [],
   "source": [
    "degree = 2*order\n",
    "Ω= Triangulation(model)\n",
    "dΩ= Measure(Ω,degree) "
   ]
  },
  {
   "cell_type": "code",
   "execution_count": null,
   "id": "0e134673",
   "metadata": {},
   "outputs": [],
   "source": [
    "labels = get_face_labeling(model)\n",
    "LoadTagId = get_tag_from_name(labels,\"LoadLine\")\n",
    "Γ_Load = BoundaryTriangulation(model,tags = LoadTagId)\n",
    "dΓ_Load = Measure(Γ_Load,degree)\n",
    "n_Γ_Load = get_normal_vector(Γ_Load)"
   ]
  },
  {
   "cell_type": "code",
   "execution_count": null,
   "id": "eb24ad55",
   "metadata": {},
   "outputs": [],
   "source": [
    "nls = NLSolver(\n",
    "  show_trace=true,\n",
    "  method=:newton,\n",
    "  linesearch=BackTracking(), iterations = 10)\n",
    "solver = FESolver(nls)"
   ]
  },
  {
   "cell_type": "code",
   "execution_count": null,
   "id": "e45ca318",
   "metadata": {},
   "outputs": [],
   "source": [
    "function run_PF(x0,vApp,cache,GcI,GcII,ψTenPrev_in,ψShearPrev_in)\n",
    "     U_PF = TrialFESpace(V0_PF)\n",
    "     res(s,ϕ) = ∫((2/pi)*ls*∇(ϕ) ⋅ ∇(s) + (degDer1∘(s,GcI))*(ψTenPrev_in/GcI)*ϕ + (degDer2∘(s,GcII))*(ψShearPrev_in/GcII)*ϕ + ((1/pi)*(2-2*s)/ls)*ϕ)*dΩ\n",
    "     op = FEOperator(res,U_PF,V0_PF)\n",
    "     sh_out = FEFunction(U_PF,x0)\n",
    "     sh_out, cache = solve!(sh_out,solver,op,cache)\n",
    "  return sh_out, get_free_dof_values(sh_out), cache\n",
    "end"
   ]
  },
  {
   "cell_type": "code",
   "execution_count": null,
   "id": "ed30ecd9",
   "metadata": {},
   "outputs": [],
   "source": [
    "function  stepDisp(uh_in,sh_in,vApp,GcI,GcII)\n",
    "    uApp1(x) = VectorValue(0.0,0.0)\n",
    "    uApp2(x) = VectorValue(0.0,vApp)\n",
    "    U_Disp = TrialFESpace(V0_Disp,[uApp1 ,uApp2])\n",
    "    a_Disp(u,v) =∫( (ε(v)⊙(σfun∘(ε(u),ε(uh_in),sh_in,GcI,GcII)) ) )*dΩ\n",
    "    b_Disp(v) = 0.0\n",
    "    op_Disp = AffineFEOperator(a_Disp ,b_Disp ,U_Disp ,V0_Disp)\n",
    "    uh_out = solve(op_Disp)\n",
    "    return  uh_out\n",
    "end"
   ]
  },
  {
   "cell_type": "code",
   "execution_count": null,
   "id": "e384d511",
   "metadata": {},
   "outputs": [],
   "source": [
    "function χFun1(ψhTenPos_in,ψhShearPos_in)\n",
    "    χVal = (ψhTenPos_in/(ψhShearPos_in + ψhTenPos_in))^2\n",
    "    return χVal\n",
    "end\n",
    "\n",
    "function χFun2(ψhTenPos_in,ψhShearPos_in)\n",
    "    χVal = (ψhShearPos_in/(ψhShearPos_in + ψhTenPos_in))^2\n",
    "    return χVal\n",
    "end"
   ]
  },
  {
   "cell_type": "code",
   "execution_count": null,
   "id": "97bc5ce0",
   "metadata": {},
   "outputs": [],
   "source": [
    "function GcFunI(χVal1)\n",
    "    Gc = GcII + (GcI - GcII)*χVal1\n",
    "    return Gc\n",
    "end\n",
    "\n",
    "function GcFunII(χVal2)\n",
    "    Gc = GcI + (GcII - GcI)*χVal2\n",
    "    return Gc\n",
    "end"
   ]
  },
  {
   "cell_type": "code",
   "execution_count": null,
   "id": "f53497c0",
   "metadata": {},
   "outputs": [],
   "source": [
    "function ψCritFun(χVal1,χVal2)\n",
    "    ψCrit_I_in = χVal1 * ψ_Crit_I\n",
    "    ψCrit_II_in = χVal2 * ψ_Crit_II\n",
    "    return ψCrit_I_in,ψCrit_II_in\n",
    "end"
   ]
  },
  {
   "cell_type": "code",
   "execution_count": null,
   "id": "c58672c1",
   "metadata": {
    "scrolled": true
   },
   "outputs": [],
   "source": [
    "vApp = 0.0\n",
    "const vAppMax = 0.8\n",
    "delv = vAppMax/100 #1e-4\n",
    "innerMax = 10\n",
    "count = 0\n",
    "Load = Float64[]\n",
    "Displacement = Float64[]\n",
    "push!(Load, 0.0)\n",
    "push!(Displacement, 0.0)\n",
    "\n",
    "χValPrev1 = 0.5 \n",
    "χValPrev2 = 0.5 \n",
    "\n",
    "χVal1 = CellState(χValPrev1,dΩ)\n",
    "χVal2 = CellState(χValPrev2,dΩ)\n",
    "\n",
    "GcPrevI = GcII + (GcI - GcII)*χValPrev1\n",
    "GcPrevII = GcI + (GcII - GcI)*χValPrev2\n",
    "\n",
    "ψCrit_I_Prev = (χValPrev1)*ψ_Crit_I\n",
    "ψCrit_II_Prev = (χValPrev2)*ψ_Crit_II\n",
    "\n",
    "GcIV = project(CellState(GcPrevI,dΩ) ,model ,dΩ,order) \n",
    "GcIIV = project(CellState(GcPrevII,dΩ) ,model ,dΩ,order) \n",
    "\n",
    "ψTenPrev = CellState(ψCrit_I_Prev,dΩ)\n",
    "ψShearPrev = CellState(ψCrit_II_Prev,dΩ)\n",
    "\n",
    "x0_PF = zeros(Float64,num_free_dofs(V0_PF))\n",
    "cache_1 = nothing\n",
    "\n",
    "uh = zero(V0_Disp)\n",
    "sh = zero(V0_PF)\n",
    "\n",
    "sh_Prev = sh\n",
    "uh_Prev = uh\n",
    "\n",
    "while  vApp .< vAppMax\n",
    "    count = count  .+ 1\n",
    "    \n",
    "    #=if vApp <= 0.25\n",
    "        delv = 0.25/50\n",
    "    else\n",
    "        delv = vAppMax/20\n",
    "end=#\n",
    "    \n",
    "    vApp = vApp .+ delv\n",
    "    \n",
    "    print(\"\\n Entering  displacemtent  step$count :\", float(vApp))\n",
    "        \n",
    "    for  inner = 1: innerMax\n",
    "        \n",
    "        ψhTenPrev = project(ψTenPrev ,model ,dΩ,order)\n",
    "        ψhShearPrev = project(ψShearPrev ,model ,dΩ,order)\n",
    "        \n",
    "        RelErr = abs(sum(∫( (2/pi)*ls*∇(sh)⋅ ∇(sh) + (degDer1∘(sh,GcIV))*(ψhTenPrev/GcIV)*sh + (degDer2∘(sh,GcIIV))*(ψhShearPrev/GcIIV)*sh - (2/(pi*ls))*sh*sh)*dΩ + ∫( (2/(pi*ls))*sh)*dΩ))/abs(sum(∫( (2/(pi*ls))*sh)*dΩ))\n",
    " \n",
    "        #RelErr = max(RelErr1,RelErr2)\n",
    "        \n",
    "        println(\"\\nRelative error =\", float(RelErr), \"\\n\")\n",
    "    \n",
    "        sh,x0_PF,cache_1 = run_PF(x0_PF,vApp,cache_1,GcIV,GcIIV,ψhTenPrev,ψhShearPrev)\n",
    "        uh = stepDisp(uh,sh,vApp,GcIV,GcIIV)\n",
    "        \n",
    "        ψhTenPos_in =ψPosTen∘(ε(uh))\n",
    "        ψhShearPos_in =ψPosShear∘(ε(uh))\n",
    "        \n",
    "        update_state!(new_EnergyState ,ψTenPrev ,ψhTenPos_in)\n",
    "        update_state!(new_EnergyState ,ψShearPrev ,ψhShearPos_in)\n",
    "        \n",
    "        χVal1 = χFun1∘(ψTenPrev,ψShearPrev)\n",
    "        χVal2 = χFun2∘(ψTenPrev,ψShearPrev)\n",
    "        \n",
    "        GcIV = GcFunI(χVal1)\n",
    "        GcIIV = GcFunII(χVal2)\n",
    "        ψCrit_I_in,ψCrit_II_in = ψCritFun(χVal1,χVal2)\n",
    "        \n",
    "        \n",
    "        update_state!(new_EnergyState ,ψTenPrev, ψCrit_I_in)\n",
    "        update_state!(new_EnergyState ,ψShearPrev, ψCrit_II_in)\n",
    "        \n",
    "        if   RelErr  < 1e-4 || isnan(RelErr)\n",
    "            break\n",
    "        end\n",
    "    end\n",
    "    \n",
    "    GcVal1 = project(GcIV ,model ,dΩ,order)\n",
    "    GcVal2 = project(GcIIV ,model ,dΩ,order)\n",
    "    \n",
    "    χValC1 = project(χVal1 ,model ,dΩ,order)\n",
    "    χValC2 = project(χVal2 ,model ,dΩ,order)\n",
    "    Node_Force = sum(∫(n_Γ_Load⋅(σfun∘(ε(uh),ε(uh),sh,GcVal1,GcVal2)))*dΓ_Load)\n",
    "    \n",
    "    push!(Load , Node_Force[2])\n",
    "    push!( Displacement , vApp)\n",
    "    if mod(count,2) == 0\n",
    "         writevtk(Ω,\"results_SymThreePtBendingTest$count\",cellfields=\n",
    "        [\"uh\"=>uh,\"s\"=>sh , \"epsi\"=>ε(uh), \"modefactorI\"=>χValC1, \"modefactorII\"=>χValC2 ])\n",
    "    end    \n",
    "end"
   ]
  },
  {
   "cell_type": "code",
   "execution_count": null,
   "id": "1494fc7f",
   "metadata": {},
   "outputs": [],
   "source": [
    "using Plots"
   ]
  },
  {
   "cell_type": "code",
   "execution_count": null,
   "id": "1a2e0438",
   "metadata": {
    "scrolled": false
   },
   "outputs": [],
   "source": [
    "plot(Displacement,Load*100/1e3)\n",
    "#xlims!(0,0.006)"
   ]
  },
  {
   "cell_type": "code",
   "execution_count": null,
   "id": "a1d914c4",
   "metadata": {},
   "outputs": [],
   "source": [
    "using DelimitedFiles\n",
    "using CSV\n",
    "using DataFrames"
   ]
  },
  {
   "cell_type": "code",
   "execution_count": null,
   "id": "14fa66ce",
   "metadata": {},
   "outputs": [],
   "source": [
    "using LaTeXStrings"
   ]
  },
  {
   "cell_type": "code",
   "execution_count": null,
   "id": "d8f6d00b",
   "metadata": {},
   "outputs": [],
   "source": [
    "open(\"load_dispPFCZMNewC$ls.csv\", \"w\") do io\n",
    "             writedlm(io, [Displacement Load])\n",
    "end"
   ]
  }
 ],
 "metadata": {
  "kernelspec": {
   "display_name": "Julia 1.8.1",
   "language": "julia",
   "name": "julia-1.8"
  },
  "language_info": {
   "file_extension": ".jl",
   "mimetype": "application/julia",
   "name": "julia",
   "version": "1.8.1"
  }
 },
 "nbformat": 4,
 "nbformat_minor": 5
}
