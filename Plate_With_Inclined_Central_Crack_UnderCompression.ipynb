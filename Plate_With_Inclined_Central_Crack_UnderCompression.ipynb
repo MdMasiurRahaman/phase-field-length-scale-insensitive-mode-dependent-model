{
 "cells": [
  {
   "cell_type": "code",
   "execution_count": 1,
   "id": "b78cd8ab",
   "metadata": {},
   "outputs": [],
   "source": [
    "using GridapGmsh\n",
    "using Gmsh: gmsh\n",
    "using Gridap\n",
    "using Gridap.Geometry\n",
    "using Gridap.TensorValues\n",
    "using LineSearches: BackTracking\n",
    "using LinearAlgebra"
   ]
  },
  {
   "cell_type": "code",
   "execution_count": 2,
   "id": "c3cae0f1",
   "metadata": {},
   "outputs": [
    {
     "data": {
      "text/plain": [
       "25790.82359646623"
      ]
     },
     "execution_count": 2,
     "metadata": {},
     "output_type": "execute_result"
    }
   ],
   "source": [
    "const E_mat = 36.2e3\n",
    "const ν_mat = 0.21\n",
    "\n",
    "const G₁₂_mat = E_mat/(2*(1+ν_mat))\n",
    "\n",
    "const λ_mat = E_mat*ν_mat/((1+ν_mat)*(1-2*ν_mat))\n",
    "const μ_mat = E_mat/(2*(1+ν_mat))\n",
    "const k_mat = λ_mat + μ_mat"
   ]
  },
  {
   "cell_type": "code",
   "execution_count": 3,
   "id": "3adfdf14",
   "metadata": {},
   "outputs": [
    {
     "data": {
      "text/plain": [
       "20"
      ]
     },
     "execution_count": 3,
     "metadata": {},
     "output_type": "execute_result"
    }
   ],
   "source": [
    "const α = 10\n",
    "const GcI = 0.011\n",
    "const GcII = α * GcI\n",
    "\n",
    "const β = 2\n",
    "const σcI = 10\n",
    "const σcII = β * σcI"
   ]
  },
  {
   "cell_type": "code",
   "execution_count": 4,
   "id": "065f8a80",
   "metadata": {},
   "outputs": [
    {
     "data": {
      "text/plain": [
       "1.0e-15"
      ]
     },
     "execution_count": 4,
     "metadata": {},
     "output_type": "execute_result"
    }
   ],
   "source": [
    "const η = 1e-15"
   ]
  },
  {
   "cell_type": "code",
   "execution_count": 5,
   "id": "633975e0",
   "metadata": {},
   "outputs": [
    {
     "data": {
      "text/plain": [
       "1.0"
      ]
     },
     "execution_count": 5,
     "metadata": {},
     "output_type": "execute_result"
    }
   ],
   "source": [
    "const ls = 1.0"
   ]
  },
  {
   "cell_type": "code",
   "execution_count": 6,
   "id": "b6ccc9c9",
   "metadata": {},
   "outputs": [
    {
     "data": {
      "text/plain": [
       "0.013370165745856354"
      ]
     },
     "execution_count": 6,
     "metadata": {},
     "output_type": "execute_result"
    }
   ],
   "source": [
    "mI(GcIc) = 4*GcIc*k_mat/(pi*ls*σcI^2)\n",
    "mII(GcIIc) = 4*GcIIc*μ_mat/(pi*ls*σcII^2)\n",
    "\n",
    "const ψ_Crit_I = σcI^2/(2*k_mat)\n",
    "const ψ_Crit_II = σcII^2/(2*μ_mat)"
   ]
  },
  {
   "cell_type": "code",
   "execution_count": 7,
   "id": "b13babbf",
   "metadata": {},
   "outputs": [
    {
     "name": "stdout",
     "output_type": "stream",
     "text": [
      "Info    : Meshing 1D...\n",
      "Info    : [  0%] Meshing curve 1 (Line)\n",
      "Info    : [ 20%] Meshing curve 2 (Line)\n",
      "Info    : [ 30%] Meshing curve 3 (Line)\n",
      "Info    : [ 40%] Meshing curve 4 (Line)\n",
      "Info    : [ 50%] Meshing curve 5 (Line)\n",
      "Info    : [ 60%] Meshing curve 6 (Line)\n",
      "Info    : [ 70%] Meshing curve 7 (Line)\n",
      "Info    : [ 80%] Meshing curve 8 (Line)\n",
      "Info    : [ 90%] Meshing curve 55 (Line)\n",
      "Info    : Done meshing 1D (Wall 0.000856282s, CPU 0.000857s)\n",
      "Info    : Meshing 2D...\n",
      "Info    : Meshing surface 1 (Plane, Frontal-Delaunay)\n",
      "Info    : Done meshing 2D (Wall 1.83492s, CPU 1.81817s)\n",
      "Info    : 57411 nodes 114529 elements\n",
      "Info    : Writing 'SquarePlateWithEdgeNotch.msh'...\n",
      "Info    : Done writing 'SquarePlateWithEdgeNotch.msh'\n"
     ]
    },
    {
     "name": "stderr",
     "output_type": "stream",
     "text": [
      "Warning : Unknown entity of dimension 2 and tag 1 in physical group 1\n",
      "Warning : Unknown entity of dimension 1 and tag 1 in physical group 1\n",
      "Warning : Unknown entity of dimension 1 and tag 3 in physical group 2\n"
     ]
    }
   ],
   "source": [
    "const L = 102\n",
    "const H = 102\n",
    "const a = 20.32*0.5\n",
    "const θ = pi/4\n",
    "\n",
    "const CH = 0.204\n",
    "const hfc = ls/2.1\n",
    "const hf = ls/2.1\n",
    "const h = 10*hf \n",
    "const FMR = 5*0.5\n",
    "\n",
    "#Coordinates\n",
    "A1 = 0.5*L - a*cos(θ) + CH*sin(θ)\n",
    "A2 = 0.5*H - a*sin(θ) - CH*cos(θ)\n",
    "\n",
    "B1 = 0.5*L - a*cos(θ) - CH*sin(θ)\n",
    "B2 = 0.5*H - a*sin(θ) + CH*cos(θ)\n",
    "\n",
    "C1 = 0.5*L + a*cos(θ) - CH*sin(θ)\n",
    "C2 = 0.5*H + a*sin(θ) + CH*cos(θ)\n",
    "\n",
    "D1 = 0.5*L + a*cos(θ) + CH*sin(θ)\n",
    "D2 = 0.5*H + a*sin(θ) - CH*cos(θ)\n",
    "\n",
    "gmsh.initialize()\n",
    "gmsh.option.setNumber(\"General.Terminal\", 1)\n",
    "gmsh.model.geo.addPoint(0.0, 0.0, 0.0, h, 1)  \n",
    "gmsh.model.geo.addPoint(L, 0.0, 0.0, h, 2) \n",
    "gmsh.model.geo.addPoint(L, H, 0.0, h, 3) \n",
    "gmsh.model.geo.addPoint(0.0, H, 0.0, h, 4)\n",
    "\n",
    "gmsh.model.geo.addPoint(A1, A2, 0.0, h, 5)\n",
    "gmsh.model.geo.addPoint(B1, B2, 0.0, h, 6)\n",
    "gmsh.model.geo.addPoint(C1, C2, 0.0, h, 7)\n",
    "gmsh.model.geo.addPoint(D1, D2, 0.0, h, 8)\n",
    "\n",
    "gmsh.model.geo.addLine(1, 2, 1)\n",
    "gmsh.model.geo.addLine(2, 3, 2)\n",
    "gmsh.model.geo.addLine(3, 4, 3)\n",
    "gmsh.model.geo.addLine(4, 1, 4)\n",
    "\n",
    "gmsh.model.geo.addLine(5, 6, 5)\n",
    "gmsh.model.geo.addLine(6, 7, 6)\n",
    "gmsh.model.geo.addLine(7, 8, 7)\n",
    "gmsh.model.geo.addLine(8, 5, 8)\n",
    "\n",
    "gmsh.model.geo.addLine(1, 3, 55)\n",
    "\n",
    "gmsh.model.geo.addCurveLoop([1,2,3,4],1) \n",
    "gmsh.model.geo.addCurveLoop([5,6,7,8],2) \n",
    "\n",
    "gmsh.model.geo.addPlaneSurface([1,-2], 1)\n",
    "\n",
    "gmsh.model.addPhysicalGroup(2, [1],1)\n",
    "\n",
    "gmsh.model.addPhysicalGroup(1, [1],1)\n",
    "gmsh.model.addPhysicalGroup(1, [3],2)\n",
    "\n",
    "gmsh.model.setPhysicalName(2, 1, \"Domain\")\n",
    "gmsh.model.setPhysicalName(1, 1, \"DirichletBot\")\n",
    "gmsh.model.setPhysicalName(1, 2, \"DirichletTop\")\n",
    "\n",
    "\n",
    "gmsh.model.mesh.field.add(\"Distance\", 1)\n",
    "gmsh.model.mesh.field.setNumbers(1, \"EdgesList\", [55])\n",
    "\n",
    "gmsh.model.mesh.field.add(\"Threshold\", 2)\n",
    "gmsh.model.mesh.field.setNumber(2, \"IField\", 1)\n",
    "gmsh.model.mesh.field.setNumber(2, \"LcMin\", hf)\n",
    "gmsh.model.mesh.field.setNumber(2, \"LcMax\", h)\n",
    "gmsh.model.mesh.field.setNumber(2, \"DistMin\", 30*FMR)\n",
    "gmsh.model.mesh.field.setNumber(2, \"DistMax\", 32*FMR)\n",
    "\n",
    "gmsh.model.mesh.field.setAsBackgroundMesh(2)\n",
    "\n",
    "gmsh.model.geo.synchronize()\n",
    "gmsh.model.mesh.generate(2)\n",
    "gmsh.write(\"SquarePlateWithEdgeNotch.msh\")\n",
    "gmsh.finalize()"
   ]
  },
  {
   "cell_type": "code",
   "execution_count": 8,
   "id": "4a562fed",
   "metadata": {},
   "outputs": [
    {
     "name": "stdout",
     "output_type": "stream",
     "text": [
      "Info    : Reading 'SquarePlateWithEdgeNotch.msh'...\n",
      "Info    : 18 entities\n",
      "Info    : 57109 nodes\n",
      "Info    : 113700 elements\n",
      "Info    : [ 10%] Reading elements                                          \r",
      "Info    : [ 10%] Reading elements                                          \r",
      "Info    : [ 20%] Reading elements                                          \r",
      "Info    : [ 20%] Reading elements                                          \r",
      "Info    : [ 30%] Reading elements                                          \r",
      "Info    : [ 30%] Reading elements                                          \r",
      "Info    : [ 40%] Reading elements                                          \r",
      "Info    : [ 40%] Reading elements                                          \r",
      "Info    : [ 50%] Reading elements                                          \r",
      "Info    : [ 50%] Reading elements                                          \r",
      "Info    : [ 60%] Reading elements                                          \r",
      "Info    : [ 60%] Reading elements                                          \r",
      "Info    : [ 70%] Reading elements                                          \r",
      "Info    : [ 70%] Reading elements                                          \r",
      "Info    : [ 80%] Reading elements                                          \r",
      "Info    : [ 80%] Reading elements                                          \r",
      "Info    : [ 90%] Reading elements                                          \r",
      "Info    : [ 90%] Reading elements                                          \r",
      "Info    : [100%] Reading elements                                          \r",
      "                                          \r",
      "Info    : Done reading 'SquarePlateWithEdgeNotch.msh'\n"
     ]
    },
    {
     "data": {
      "text/plain": [
       "3-element Vector{Vector{String}}:\n",
       " [\"SquarePlateWithEdgeNotch_0.vtu\"]\n",
       " [\"SquarePlateWithEdgeNotch_1.vtu\"]\n",
       " [\"SquarePlateWithEdgeNotch_2.vtu\"]"
      ]
     },
     "execution_count": 8,
     "metadata": {},
     "output_type": "execute_result"
    }
   ],
   "source": [
    "model = GmshDiscreteModel(\"SquarePlateWithEdgeNotch.msh\")\n",
    "writevtk(model,\"SquarePlateWithEdgeNotch\")  "
   ]
  },
  {
   "cell_type": "code",
   "execution_count": 9,
   "id": "a423a4ac",
   "metadata": {},
   "outputs": [
    {
     "data": {
      "text/plain": [
       "SymFourthOrderTensorValue{2, Float64, 9}(0.5, 0.0, -0.5, 0.0, 0.5, 0.0, -0.5, 0.0, 0.5)"
      ]
     },
     "execution_count": 9,
     "metadata": {},
     "output_type": "execute_result"
    }
   ],
   "source": [
    "I2 = SymTensorValue{2,Float64}(1.0 ,0.0 ,1.0)\n",
    "I4 = I2⊗I2\n",
    "I4_sym = one(SymFourthOrderTensorValue{2,Float64})\n",
    "I4_vol = (1.0/2)*I4\n",
    "I4_dev = I4_sym  - I4_vol  "
   ]
  },
  {
   "cell_type": "code",
   "execution_count": 10,
   "id": "67e9c29a",
   "metadata": {},
   "outputs": [
    {
     "data": {
      "text/plain": [
       "-0.5"
      ]
     },
     "execution_count": 10,
     "metadata": {},
     "output_type": "execute_result"
    }
   ],
   "source": [
    "p = -0.5"
   ]
  },
  {
   "cell_type": "code",
   "execution_count": 11,
   "id": "2959449b",
   "metadata": {},
   "outputs": [
    {
     "data": {
      "text/plain": [
       "degDer1 (generic function with 1 method)"
      ]
     },
     "execution_count": 11,
     "metadata": {},
     "output_type": "execute_result"
    }
   ],
   "source": [
    "function degDer1(ϕ,GcI)\n",
    "    mIc = mI(GcI)\n",
    "    g = ((ϕ-1)*(ϕ*(2*p+1)+1)*mIc)/((ϕ*ϕ*(mIc*p+1)+(ϕ*(mIc-2)+1))^2) \n",
    "    return g\n",
    "end"
   ]
  },
  {
   "cell_type": "code",
   "execution_count": 12,
   "id": "09ef69bf",
   "metadata": {},
   "outputs": [
    {
     "data": {
      "text/plain": [
       "degDer2 (generic function with 1 method)"
      ]
     },
     "execution_count": 12,
     "metadata": {},
     "output_type": "execute_result"
    }
   ],
   "source": [
    "function degDer2(ϕ,GcII)\n",
    "    mIIc = mII(GcII)\n",
    "    g = ((ϕ-1)*(ϕ*(2*p+1)+1)*mIIc)/((ϕ*ϕ*(mIIc*p+1)+(ϕ*(mIIc-2)+1))^2) \n",
    "    return g\n",
    "end"
   ]
  },
  {
   "cell_type": "code",
   "execution_count": 13,
   "id": "bc387920",
   "metadata": {},
   "outputs": [
    {
     "data": {
      "text/plain": [
       "σfun (generic function with 1 method)"
      ]
     },
     "execution_count": 13,
     "metadata": {},
     "output_type": "execute_result"
    }
   ],
   "source": [
    "function σfun(ε,ε_in,s_in,GcI,GcII)\n",
    "    mIc = mI(GcI)\n",
    "    mIIc = mII(GcII)\n",
    "    εdev = I4_dev ⊙ ε\n",
    "    σI = k_mat*tr(ε)*one(ε)\n",
    "    σII = 2*μ_mat*εdev\n",
    "    σ = ((1-s_in)^2 / ((1-s_in)^2 + ((mIc*s_in*(1 + p*s_in)))))*(σI) + ((1-s_in)^2 / ((1-s_in)^2 + ((mIIc*s_in*(1 + p*s_in)))))*(σII)\n",
    "    return  σ\n",
    "end  "
   ]
  },
  {
   "cell_type": "code",
   "execution_count": 14,
   "id": "f4f91dac",
   "metadata": {},
   "outputs": [
    {
     "data": {
      "text/plain": [
       "Eigen (generic function with 1 method)"
      ]
     },
     "execution_count": 14,
     "metadata": {},
     "output_type": "execute_result"
    }
   ],
   "source": [
    "function Eigen(ε)\n",
    "    εArray = get_array(ε)\n",
    "    Λ, P = eigen(εArray)\n",
    "    ε1 = Λ[1]\n",
    "    ε2 = Λ[2]\n",
    "    if ε1 >= 0 &&  ε2 >= 0\n",
    "        Λpos = [ε1 0; 0 ε2]\n",
    "        Λneg = [0 0; 0 0]\n",
    "    elseif ε1 >= 0 &&  ε2 < 0\n",
    "        Λpos = [ε1 0; 0 0]\n",
    "        Λneg = [0 0; 0 ε2]\n",
    "    elseif ε1 < 0 &&  ε2 >= 0\n",
    "        Λpos = [0 0; 0 ε2]\n",
    "        Λneg = [ε1 0; 0 0]\n",
    "    elseif ε1 < 0 &&  ε2 < 0\n",
    "        Λpos = [0 0; 0 0]\n",
    "        Λneg = [ε1 0; 0 ε2]\n",
    "    end\n",
    "    εPos = TensorValue(P*Λpos*P')\n",
    "    εNeg = TensorValue(P*Λneg*P')\n",
    "    return εPos, εNeg\n",
    "end"
   ]
  },
  {
   "cell_type": "code",
   "execution_count": 15,
   "id": "26fe4885",
   "metadata": {},
   "outputs": [
    {
     "data": {
      "text/plain": [
       "ψPosTen (generic function with 1 method)"
      ]
     },
     "execution_count": 15,
     "metadata": {},
     "output_type": "execute_result"
    }
   ],
   "source": [
    "function ψPosTen(ε_in)\n",
    "    εdev = I4_dev ⊙ ε_in\n",
    "    εPos, εNeg = Eigen(εdev) \n",
    "    if tr(ε_in) > 0.0\n",
    "        ψPlus = 0.5*k_mat*(tr(ε_in))^2\n",
    "    else\n",
    "        ψPlus = 0.0\n",
    "    end\n",
    "    return ψPlus\n",
    "end"
   ]
  },
  {
   "cell_type": "code",
   "execution_count": 16,
   "id": "7493c9c4",
   "metadata": {},
   "outputs": [
    {
     "data": {
      "text/plain": [
       "ψPosShear (generic function with 1 method)"
      ]
     },
     "execution_count": 16,
     "metadata": {},
     "output_type": "execute_result"
    }
   ],
   "source": [
    "function ψPosShear(ε_in)\n",
    "    εdev = I4_dev ⊙ ε_in\n",
    "    εPos, εNeg = Eigen(εdev) \n",
    "    ψPlus = μ_mat * (εPos ⊙ εPos)\n",
    "    return ψPlus\n",
    "end"
   ]
  },
  {
   "cell_type": "code",
   "execution_count": 17,
   "id": "e8cc7ece",
   "metadata": {},
   "outputs": [
    {
     "data": {
      "text/plain": [
       "new_EnergyState (generic function with 1 method)"
      ]
     },
     "execution_count": 17,
     "metadata": {},
     "output_type": "execute_result"
    }
   ],
   "source": [
    "function new_EnergyState(ψPlusPrev_in,ψhPos_in)\n",
    "  ψPlus_in = ψhPos_in\n",
    "  if ψPlus_in >= ψPlusPrev_in\n",
    "    ψPlus_out = ψPlus_in\n",
    "  else\n",
    "    ψPlus_out = ψPlusPrev_in\n",
    "  end\n",
    "  true,ψPlus_out\n",
    "end"
   ]
  },
  {
   "cell_type": "code",
   "execution_count": 18,
   "id": "867e24e5",
   "metadata": {},
   "outputs": [
    {
     "data": {
      "text/plain": [
       "EnergyState (generic function with 1 method)"
      ]
     },
     "execution_count": 18,
     "metadata": {},
     "output_type": "execute_result"
    }
   ],
   "source": [
    "function EnergyState(ψPlusPrev_in,ψhPos_in)\n",
    "  ψPlus_out = ψhPos_in\n",
    "  true,ψPlus_out\n",
    "end"
   ]
  },
  {
   "cell_type": "code",
   "execution_count": 19,
   "id": "0a6cac50",
   "metadata": {},
   "outputs": [
    {
     "data": {
      "text/plain": [
       "project (generic function with 1 method)"
      ]
     },
     "execution_count": 19,
     "metadata": {},
     "output_type": "execute_result"
    }
   ],
   "source": [
    "function  project(q,model ,dΩ,order)\n",
    "    reffe = ReferenceFE(lagrangian ,Float64 ,order)\n",
    "    V = FESpace(model ,reffe ,conformity =:L2)\n",
    "    a(u,v) =∫(u*v)*dΩ\n",
    "    b(v) =∫(v*q)*dΩ\n",
    "    op = AffineFEOperator(a,b,V,V)\n",
    "    qh = Gridap.solve(op)\n",
    "    return  qh\n",
    "end\n",
    "     "
   ]
  },
  {
   "cell_type": "code",
   "execution_count": 20,
   "id": "13efff5c",
   "metadata": {},
   "outputs": [
    {
     "data": {
      "text/plain": [
       "SingleFieldFEFunction():\n",
       " num_cells: 113270\n",
       " DomainStyle: ReferenceDomain()\n",
       " Triangulation: BodyFittedTriangulation()\n",
       " Triangulation id: 17104460867162936782"
      ]
     },
     "execution_count": 20,
     "metadata": {},
     "output_type": "execute_result"
    }
   ],
   "source": [
    "order = 1\n",
    "reffe_PF = ReferenceFE(lagrangian ,Float64,order)\n",
    "V0_PF = TestFESpace(model ,reffe_PF;conformity =:H1)\n",
    "U_PF = TrialFESpace(V0_PF)\n",
    "sh = zero(V0_PF)"
   ]
  },
  {
   "cell_type": "code",
   "execution_count": 21,
   "id": "895ca251",
   "metadata": {},
   "outputs": [
    {
     "data": {
      "text/plain": [
       "SingleFieldFEFunction():\n",
       " num_cells: 113270\n",
       " DomainStyle: ReferenceDomain()\n",
       " Triangulation: BodyFittedTriangulation()\n",
       " Triangulation id: 17104460867162936782"
      ]
     },
     "execution_count": 21,
     "metadata": {},
     "output_type": "execute_result"
    }
   ],
   "source": [
    "reffe_Disp = ReferenceFE(lagrangian,VectorValue{2,Float64},order)\n",
    "        V0_Disp = TestFESpace(model,reffe_Disp;\n",
    "          conformity=:H1,\n",
    "          dirichlet_tags=[\"DirichletBot\",\"DirichletTop\"],\n",
    "          dirichlet_masks=[(true,true), (false,true)])\n",
    "\n",
    "uh = zero(V0_Disp)"
   ]
  },
  {
   "cell_type": "code",
   "execution_count": 22,
   "id": "36de97a8",
   "metadata": {},
   "outputs": [
    {
     "data": {
      "text/plain": [
       "GenericMeasure()"
      ]
     },
     "execution_count": 22,
     "metadata": {},
     "output_type": "execute_result"
    }
   ],
   "source": [
    "degree = 2*order\n",
    "Ω= Triangulation(model)\n",
    "dΩ= Measure(Ω,degree) "
   ]
  },
  {
   "cell_type": "code",
   "execution_count": 23,
   "id": "0e134673",
   "metadata": {},
   "outputs": [
    {
     "data": {
      "text/plain": [
       "GenericCellField():\n",
       " num_cells: 215\n",
       " DomainStyle: ReferenceDomain()\n",
       " Triangulation: BoundaryTriangulation()\n",
       " Triangulation id: 1945304062373542040"
      ]
     },
     "execution_count": 23,
     "metadata": {},
     "output_type": "execute_result"
    }
   ],
   "source": [
    "labels = get_face_labeling(model)\n",
    "LoadTagId = get_tag_from_name(labels,\"DirichletTop\")\n",
    "Γ_Load = BoundaryTriangulation(model,tags = LoadTagId)\n",
    "dΓ_Load = Measure(Γ_Load,degree)\n",
    "n_Γ_Load = get_normal_vector(Γ_Load)"
   ]
  },
  {
   "cell_type": "code",
   "execution_count": 24,
   "id": "eb24ad55",
   "metadata": {},
   "outputs": [
    {
     "data": {
      "text/plain": [
       "NonlinearFESolver()"
      ]
     },
     "execution_count": 24,
     "metadata": {},
     "output_type": "execute_result"
    }
   ],
   "source": [
    "nls = NLSolver(\n",
    "  show_trace=true,\n",
    "  method=:newton,\n",
    "  linesearch=BackTracking(), iterations = 10)\n",
    "solver = FESolver(nls)"
   ]
  },
  {
   "cell_type": "code",
   "execution_count": 25,
   "id": "6415ab71",
   "metadata": {},
   "outputs": [
    {
     "data": {
      "text/plain": [
       "run_PF (generic function with 1 method)"
      ]
     },
     "execution_count": 25,
     "metadata": {},
     "output_type": "execute_result"
    }
   ],
   "source": [
    "function run_PF(x0,vApp,cache,GcI,GcII,ψTenPrev_in,ψShearPrev_in)\n",
    "     U_PF = TrialFESpace(V0_PF)\n",
    "     res(s,ϕ) = ∫((2/pi)*ls*∇(ϕ) ⋅ ∇(s) + (degDer1∘(s,GcI))*(ψTenPrev_in/GcI)*ϕ + (degDer2∘(s,GcII))*(ψShearPrev_in/GcII)*ϕ + ((1/pi)*(2-2*s)/ls)*ϕ)*dΩ\n",
    "     op = FEOperator(res,U_PF,V0_PF)\n",
    "     sh_out = FEFunction(U_PF,x0)\n",
    "     sh_out, cache = solve!(sh_out,solver,op,cache)\n",
    "  return sh_out, get_free_dof_values(sh_out), cache\n",
    "end"
   ]
  },
  {
   "cell_type": "code",
   "execution_count": 26,
   "id": "ed30ecd9",
   "metadata": {},
   "outputs": [
    {
     "data": {
      "text/plain": [
       "stepDisp (generic function with 1 method)"
      ]
     },
     "execution_count": 26,
     "metadata": {},
     "output_type": "execute_result"
    }
   ],
   "source": [
    "function  stepDisp(uh_in,sh_in,vApp,GcI,GcII)\n",
    "    uApp1(x) = VectorValue(0.0,0.0)\n",
    "    uApp2(x) = VectorValue(0.0,-vApp)\n",
    "    U_Disp = TrialFESpace(V0_Disp,[uApp1 ,uApp2])\n",
    "    a_Disp(u,v) =∫( (ε(v)⊙(σfun∘(ε(u),ε(uh_in),sh_in,GcI,GcII)) ) )*dΩ\n",
    "    b_Disp(v) = 0.0\n",
    "    op_Disp = AffineFEOperator(a_Disp ,b_Disp ,U_Disp ,V0_Disp)\n",
    "    uh_out = solve(op_Disp)\n",
    "    return  uh_out\n",
    "end"
   ]
  },
  {
   "cell_type": "code",
   "execution_count": 27,
   "id": "2f7a6692",
   "metadata": {},
   "outputs": [
    {
     "data": {
      "text/plain": [
       "χFun2 (generic function with 1 method)"
      ]
     },
     "execution_count": 27,
     "metadata": {},
     "output_type": "execute_result"
    }
   ],
   "source": [
    "function χFun1(ψhTenPos_in,ψhShearPos_in)\n",
    "    χVal = (ψhTenPos_in/(ψhShearPos_in + ψhTenPos_in))^2\n",
    "    return χVal\n",
    "end\n",
    "\n",
    "function χFun2(ψhTenPos_in,ψhShearPos_in)\n",
    "    χVal = (ψhShearPos_in/(ψhShearPos_in + ψhTenPos_in))^2\n",
    "    return χVal\n",
    "end"
   ]
  },
  {
   "cell_type": "code",
   "execution_count": 28,
   "id": "caa7b5fc",
   "metadata": {},
   "outputs": [
    {
     "data": {
      "text/plain": [
       "GcFunII (generic function with 1 method)"
      ]
     },
     "execution_count": 28,
     "metadata": {},
     "output_type": "execute_result"
    }
   ],
   "source": [
    "function GcFunI(χVal1)\n",
    "    Gc = GcII + (GcI - GcII)*χVal1\n",
    "    return Gc\n",
    "end\n",
    "\n",
    "function GcFunII(χVal2)\n",
    "    Gc = GcI + (GcII - GcI)*χVal2\n",
    "    return Gc\n",
    "end"
   ]
  },
  {
   "cell_type": "code",
   "execution_count": 29,
   "id": "8e9fa5b5",
   "metadata": {},
   "outputs": [
    {
     "data": {
      "text/plain": [
       "ψCritFun (generic function with 1 method)"
      ]
     },
     "execution_count": 29,
     "metadata": {},
     "output_type": "execute_result"
    }
   ],
   "source": [
    "function ψCritFun(χVal1,χVal2)\n",
    "    ψCrit_I_in = χVal1 * ψ_Crit_I\n",
    "    ψCrit_II_in = χVal2 * ψ_Crit_II\n",
    "    return ψCrit_I_in,ψCrit_II_in\n",
    "end"
   ]
  },
  {
   "cell_type": "code",
   "execution_count": null,
   "id": "c58672c1",
   "metadata": {
    "scrolled": true
   },
   "outputs": [
    {
     "name": "stdout",
     "output_type": "stream",
     "text": [
      "\n",
      " Entering  displacemtent  step1 :0.0005\n",
      "Relative error =NaN\n",
      "\n",
      "Iter     f(x) inf-norm    Step 2-norm \n",
      "------   --------------   --------------\n",
      "     0     2.188701e-17              NaN\n",
      "\n",
      " Entering  displacemtent  step2 :0.001\n",
      "Relative error =NaN\n",
      "\n",
      "Iter     f(x) inf-norm    Step 2-norm \n",
      "------   --------------   --------------\n",
      "     0     4.622707e-02              NaN\n",
      "     1     1.149469e-02     2.747312e+00\n",
      "     2     1.143741e-03     5.348641e-01\n",
      "     3     1.374713e-05     8.051019e-03\n",
      "     4     2.033081e-09     1.220740e-06\n",
      "\n",
      " Entering  displacemtent  step3 :0.0015\n",
      "Relative error =0.06591340899050976\n",
      "\n",
      "Iter     f(x) inf-norm    Step 2-norm \n",
      "------   --------------   --------------\n",
      "     0     1.159598e-02              NaN\n",
      "     1     1.224393e-03     8.227125e-01\n",
      "     2     1.657131e-05     1.431117e-02\n",
      "     3     3.112095e-09     2.768259e-06\n"
     ]
    }
   ],
   "source": [
    "vApp = 0.0\n",
    "const vAppMax = 0.10\n",
    "delv = 0.05/100 #1e-4\n",
    "innerMax = 10\n",
    "count = 0\n",
    "Load = Float64[]\n",
    "Displacement = Float64[]\n",
    "push!(Load, 0.0)\n",
    "push!(Displacement, 0.0)\n",
    "\n",
    "χValPrev1 = 0.5 \n",
    "χValPrev2 = 0.5 \n",
    "\n",
    "χVal1 = CellState(χValPrev1,dΩ)\n",
    "χVal2 = CellState(χValPrev2,dΩ)\n",
    "\n",
    "GcPrevI = GcII + (GcI - GcII)*χValPrev1\n",
    "GcPrevII = GcI + (GcII - GcI)*χValPrev2\n",
    "\n",
    "ψCrit_I_Prev = (χValPrev1)*ψ_Crit_I\n",
    "ψCrit_II_Prev = (χValPrev2)*ψ_Crit_II\n",
    "\n",
    "GcIV = project(CellState(GcPrevI,dΩ) ,model ,dΩ,order) \n",
    "GcIIV = project(CellState(GcPrevII,dΩ) ,model ,dΩ,order) \n",
    "\n",
    "ψTenPrev = CellState(ψCrit_I_Prev,dΩ)\n",
    "ψShearPrev = CellState(ψCrit_II_Prev,dΩ)\n",
    "\n",
    "x0_PF = zeros(Float64,num_free_dofs(V0_PF))\n",
    "cache_1 = nothing\n",
    "\n",
    "uh = zero(V0_Disp)\n",
    "sh = zero(V0_PF)\n",
    "\n",
    "sh_Prev = sh\n",
    "uh_Prev = uh\n",
    "\n",
    "while  vApp .< vAppMax\n",
    "    count = count  .+ 1\n",
    "    \n",
    "    #=if vApp <= 4e-3\n",
    "        delv = 2e-4\n",
    "    else\n",
    "        delv = 1e-5\n",
    "end=#\n",
    "    \n",
    "    vApp = vApp .+ delv\n",
    "    \n",
    "    print(\"\\n Entering  displacemtent  step$count :\", float(vApp))\n",
    "        \n",
    "    for  inner = 1: innerMax\n",
    "        \n",
    "        ψhTenPrev = project(ψTenPrev ,model ,dΩ,order)\n",
    "        ψhShearPrev = project(ψShearPrev ,model ,dΩ,order)\n",
    "        \n",
    "        RelErr = abs(sum(∫( (2/pi)*ls*∇(sh)⋅ ∇(sh) + (degDer1∘(sh,GcIV))*(ψhTenPrev/GcIV)*sh + (degDer2∘(sh,GcIIV))*(ψhShearPrev/GcIIV)*sh - (2/(pi*ls))*sh*sh)*dΩ + ∫( (2/(pi*ls))*sh)*dΩ))/abs(sum(∫( (2/(pi*ls))*sh)*dΩ))\n",
    " \n",
    "        #RelErr = max(RelErr1,RelErr2)\n",
    "        \n",
    "        println(\"\\nRelative error =\", float(RelErr), \"\\n\")\n",
    "    \n",
    "        sh,x0_PF,cache_1 = run_PF(x0_PF,vApp,cache_1,GcIV,GcIIV,ψhTenPrev,ψhShearPrev)\n",
    "        uh = stepDisp(uh,sh,vApp,GcIV,GcIIV)\n",
    "        \n",
    "        ψhTenPos_in =ψPosTen∘(ε(uh))\n",
    "        ψhShearPos_in =ψPosShear∘(ε(uh))\n",
    "        \n",
    "        update_state!(new_EnergyState ,ψTenPrev ,ψhTenPos_in)\n",
    "        update_state!(new_EnergyState ,ψShearPrev ,ψhShearPos_in)\n",
    "        \n",
    "        χVal1 = χFun1∘(ψTenPrev,ψShearPrev)\n",
    "        χVal2 = χFun2∘(ψTenPrev,ψShearPrev)\n",
    "        \n",
    "        GcIV = GcFunI(χVal1)\n",
    "        GcIIV = GcFunII(χVal2)\n",
    "        ψCrit_I_in,ψCrit_II_in = ψCritFun(χVal1,χVal2)\n",
    "        \n",
    "        \n",
    "        update_state!(new_EnergyState ,ψTenPrev, ψCrit_I_in)\n",
    "        update_state!(new_EnergyState ,ψShearPrev, ψCrit_II_in)\n",
    "        \n",
    "        #ψTenPrev = ψCrit_ISt\n",
    "        #ψShearPrev = ψCrit_IISt\n",
    "\n",
    "        \n",
    "        if   RelErr  < 1e-4 || isnan(RelErr)\n",
    "            break\n",
    "        end\n",
    "        \n",
    "    end\n",
    "    GcVal1 = project(GcIV ,model ,dΩ,order)\n",
    "    GcVal2 = project(GcIIV ,model ,dΩ,order)\n",
    "    \n",
    "    χValC1 = project(χVal1 ,model ,dΩ,order)\n",
    "    χValC2 = project(χVal2 ,model ,dΩ,order)\n",
    "    \n",
    "    Node_Force = sum(∫(n_Γ_Load⋅(σfun∘(ε(uh),ε(uh),sh,GcVal1,GcVal2)))*dΓ_Load)\n",
    "    \n",
    "    push!(Load , -Node_Force[2])\n",
    "    push!( Displacement , vApp)\n",
    "    if mod(count,2) == 0\n",
    "         writevtk(Ω,\"Modified_BKCriteria_Plate_With_Inclined_Central_Crack$count\",cellfields=\n",
    "        [\"uh\"=>uh,\"s\"=>sh , \"epsi\"=>ε(uh), \"modefactorI\"=>χValC1, \"modefactorII\"=>χValC2])\n",
    "    end\n",
    "    \n",
    "end"
   ]
  },
  {
   "cell_type": "code",
   "execution_count": null,
   "id": "1494fc7f",
   "metadata": {},
   "outputs": [],
   "source": [
    "using Plots"
   ]
  },
  {
   "cell_type": "code",
   "execution_count": null,
   "id": "1a2e0438",
   "metadata": {
    "scrolled": false
   },
   "outputs": [],
   "source": [
    "plot(Displacement,Load)\n",
    "#xlims!(0,0.006)"
   ]
  },
  {
   "cell_type": "code",
   "execution_count": null,
   "id": "ec54012d",
   "metadata": {},
   "outputs": [],
   "source": [
    "maximum(Load)"
   ]
  },
  {
   "cell_type": "code",
   "execution_count": null,
   "id": "a1d914c4",
   "metadata": {},
   "outputs": [],
   "source": [
    "using DelimitedFiles\n",
    "using CSV"
   ]
  },
  {
   "cell_type": "code",
   "execution_count": null,
   "id": "14fa66ce",
   "metadata": {},
   "outputs": [],
   "source": [
    "using LaTeXStrings"
   ]
  },
  {
   "cell_type": "code",
   "execution_count": null,
   "id": "d8f6d00b",
   "metadata": {},
   "outputs": [],
   "source": [
    "open(\"load_dispPFCZMNew$ls.csv\", \"w\") do io\n",
    "             writedlm(io, [Displacement Load])\n",
    "end"
   ]
  }
 ],
 "metadata": {
  "kernelspec": {
   "display_name": "Julia 1.8.1",
   "language": "julia",
   "name": "julia-1.8"
  },
  "language_info": {
   "file_extension": ".jl",
   "mimetype": "application/julia",
   "name": "julia",
   "version": "1.8.1"
  }
 },
 "nbformat": 4,
 "nbformat_minor": 5
}
